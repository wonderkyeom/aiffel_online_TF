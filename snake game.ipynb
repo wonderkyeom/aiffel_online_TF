{
 "cells": [
  {
   "cell_type": "code",
   "execution_count": null,
   "id": "b29901e2",
   "metadata": {},
   "outputs": [],
   "source": [
    "import random"
   ]
  },
  {
   "cell_type": "code",
   "execution_count": null,
   "id": "e716a938",
   "metadata": {},
   "outputs": [],
   "source": [
    "end = False\n",
    "\n",
    "pipe = {'4':16, '8':12, '18':38, '20':74, '24':36, '32':56, '40':60, '48':54, '70':88, '76':86, '80':100, '90':92}\n",
    "snake = {'22':2, '28':6, '30':10, '44':26, '58':42, '66':14, '68':52, '72':50, '84':62, '94':64, '96':82, '98':78}"
   ]
  },
  {
   "cell_type": "code",
   "execution_count": null,
   "id": "3d50916c",
   "metadata": {},
   "outputs": [],
   "source": [
    "player = int(input(\"player 수를 입력해주세요.\"))\n",
    "print(\"총 player 수는 \", player, \"입니다.\")\n",
    "\n",
    "goal = [0 for i in range(player)]\n",
    "idx = 1 # 플레이어 넘버\n",
    "print(\"시작점 :\", goal)\n",
    "# print(pipe.keys())\n",
    "\n",
    "if str(goal) in pipe.keys():\n",
    "    print(True)\n",
    "    print(\"key :\", pipe[str(goal)])"
   ]
  },
  {
   "cell_type": "code",
   "execution_count": null,
   "id": "84782eb1",
   "metadata": {
    "scrolled": true
   },
   "outputs": [],
   "source": [
    "while not end:\n",
    "    # player 정보 출력\n",
    "    print(\"현재 player는 \", idx, \"번 유저입니다.\")\n",
    "    \n",
    "    i = random.randint(1, 6)\n",
    "    print(\"나온 주사위 값은 \", i, \"입니다.\")\n",
    "    print(\"이동 전 \", idx, \"번 플레이어의 위치는 \", goal[idx-1],\"입니다.\")\n",
    "    \n",
    "    if str(i) in pipe.keys():\n",
    "        # + value만큼\n",
    "        goal[idx-1] = pipe[str(i)]\n",
    "    elif str(i) in snake.keys():\n",
    "        # - value만큼\n",
    "        goal[idx-1] = snake[str(i)]\n",
    "    else:\n",
    "        goal[idx-1] += i\n",
    "\n",
    "    print(\"이동 후 player들의 위치는 다음과 같습니다.\")\n",
    "    for p in range(player):\n",
    "        print(p + 1, \"번 플레이어의 위치는\", goal[p], \"입니다.\")\n",
    "        if goal[p] >= 100:\n",
    "            print(p + 1, \"번 플레이어가 게임에서 승리하셨습니다.\")\n",
    "            end = True\n",
    "            break\n",
    "    print(' ')\n",
    " \n",
    "    idx+=1\n",
    "    if idx > player:\n",
    "        idx = 1"
   ]
  },
  {
   "cell_type": "code",
   "execution_count": null,
   "id": "56e1d42f",
   "metadata": {},
   "outputs": [],
   "source": []
  },
  {
   "cell_type": "code",
   "execution_count": null,
   "id": "df7a4d47",
   "metadata": {},
   "outputs": [],
   "source": []
  }
 ],
 "metadata": {
  "kernelspec": {
   "display_name": "Python 3",
   "language": "python",
   "name": "python3"
  },
  "language_info": {
   "codemirror_mode": {
    "name": "ipython",
    "version": 3
   },
   "file_extension": ".py",
   "mimetype": "text/x-python",
   "name": "python",
   "nbconvert_exporter": "python",
   "pygments_lexer": "ipython3",
   "version": "3.8.8"
  }
 },
 "nbformat": 4,
 "nbformat_minor": 5
}
